{
 "cells": [
  {
   "cell_type": "markdown",
   "metadata": {},
   "source": [
    "#### ==================================================================================================================="
   ]
  },
  {
   "cell_type": "markdown",
   "metadata": {},
   "source": [
    "# Datafiniti Mens Shoes"
   ]
  },
  {
   "cell_type": "markdown",
   "metadata": {},
   "source": [
    "#### ==================================================================================================================="
   ]
  },
  {
   "cell_type": "code",
   "execution_count": 1,
   "metadata": {},
   "outputs": [],
   "source": [
    "#Import Dependencies\n",
    "import pandas as pd"
   ]
  },
  {
   "cell_type": "code",
   "execution_count": 2,
   "metadata": {},
   "outputs": [
    {
     "data": {
      "text/html": [
       "<div>\n",
       "<style scoped>\n",
       "    .dataframe tbody tr th:only-of-type {\n",
       "        vertical-align: middle;\n",
       "    }\n",
       "\n",
       "    .dataframe tbody tr th {\n",
       "        vertical-align: top;\n",
       "    }\n",
       "\n",
       "    .dataframe thead th {\n",
       "        text-align: right;\n",
       "    }\n",
       "</style>\n",
       "<table border=\"1\" class=\"dataframe\">\n",
       "  <thead>\n",
       "    <tr style=\"text-align: right;\">\n",
       "      <th></th>\n",
       "      <th>id</th>\n",
       "      <th>asins</th>\n",
       "      <th>brand</th>\n",
       "      <th>categories</th>\n",
       "      <th>colors</th>\n",
       "      <th>count</th>\n",
       "      <th>dateAdded</th>\n",
       "      <th>dateUpdated</th>\n",
       "      <th>descriptions</th>\n",
       "      <th>dimension</th>\n",
       "      <th>...</th>\n",
       "      <th>quantities</th>\n",
       "      <th>reviews</th>\n",
       "      <th>sizes</th>\n",
       "      <th>skus</th>\n",
       "      <th>sourceURLs</th>\n",
       "      <th>upc</th>\n",
       "      <th>vin</th>\n",
       "      <th>websiteIDs</th>\n",
       "      <th>weight</th>\n",
       "      <th>Unnamed: 48</th>\n",
       "    </tr>\n",
       "  </thead>\n",
       "  <tbody>\n",
       "    <tr>\n",
       "      <th>0</th>\n",
       "      <td>AVpfHrJ6ilAPnD_xVXOI</td>\n",
       "      <td>NaN</td>\n",
       "      <td>Josmo</td>\n",
       "      <td>Clothing,Shoes,Men's Shoes,All Men's Shoes</td>\n",
       "      <td>NaN</td>\n",
       "      <td>NaN</td>\n",
       "      <td>2016-11-07T00:45:12Z</td>\n",
       "      <td>2016-11-07T00:45:12Z</td>\n",
       "      <td>[{\"dateSeen\":[\"2016-11-07T00:45:12Z\"],\"sourceU...</td>\n",
       "      <td>NaN</td>\n",
       "      <td>...</td>\n",
       "      <td>NaN</td>\n",
       "      <td>NaN</td>\n",
       "      <td>NaN</td>\n",
       "      <td>NaN</td>\n",
       "      <td>https://www.walmart.com/ip/Josmo-8190-Plain-In...</td>\n",
       "      <td>6.99302E+11</td>\n",
       "      <td>NaN</td>\n",
       "      <td>NaN</td>\n",
       "      <td>NaN</td>\n",
       "      <td>NaN</td>\n",
       "    </tr>\n",
       "    <tr>\n",
       "      <th>1</th>\n",
       "      <td>AVpfHrJ6ilAPnD_xVXOI</td>\n",
       "      <td>NaN</td>\n",
       "      <td>Josmo</td>\n",
       "      <td>Clothing,Shoes,Men's Shoes,All Men's Shoes</td>\n",
       "      <td>NaN</td>\n",
       "      <td>NaN</td>\n",
       "      <td>2016-11-07T00:45:12Z</td>\n",
       "      <td>2016-11-07T00:45:12Z</td>\n",
       "      <td>[{\"dateSeen\":[\"2016-11-07T00:45:12Z\"],\"sourceU...</td>\n",
       "      <td>NaN</td>\n",
       "      <td>...</td>\n",
       "      <td>NaN</td>\n",
       "      <td>NaN</td>\n",
       "      <td>NaN</td>\n",
       "      <td>NaN</td>\n",
       "      <td>https://www.walmart.com/ip/Josmo-8190-Plain-In...</td>\n",
       "      <td>6.99302E+11</td>\n",
       "      <td>NaN</td>\n",
       "      <td>NaN</td>\n",
       "      <td>NaN</td>\n",
       "      <td>NaN</td>\n",
       "    </tr>\n",
       "    <tr>\n",
       "      <th>2</th>\n",
       "      <td>AVpfHsWP1cnluZ0-eVZ7</td>\n",
       "      <td>NaN</td>\n",
       "      <td>SERVUS BY HONEYWELL</td>\n",
       "      <td>All Men's Shoes,Shoes,Men's Shoes,Clothing</td>\n",
       "      <td>NaN</td>\n",
       "      <td>NaN</td>\n",
       "      <td>2016-06-14T04:29:57Z</td>\n",
       "      <td>2016-07-09T20:26:48Z</td>\n",
       "      <td>[{\"dateSeen\":[\"2016-07-09T20:26:48Z\"],\"sourceU...</td>\n",
       "      <td>NaN</td>\n",
       "      <td>...</td>\n",
       "      <td>NaN</td>\n",
       "      <td>NaN</td>\n",
       "      <td>NaN</td>\n",
       "      <td>NaN</td>\n",
       "      <td>http://www.walmart.com/ip/Studs-Shoe-Large-Pr-...</td>\n",
       "      <td>NaN</td>\n",
       "      <td>NaN</td>\n",
       "      <td>NaN</td>\n",
       "      <td>NaN</td>\n",
       "      <td>NaN</td>\n",
       "    </tr>\n",
       "    <tr>\n",
       "      <th>3</th>\n",
       "      <td>AVpfHsWP1cnluZ0-eVZ7</td>\n",
       "      <td>NaN</td>\n",
       "      <td>SERVUS BY HONEYWELL</td>\n",
       "      <td>All Men's Shoes,Shoes,Men's Shoes,Clothing</td>\n",
       "      <td>NaN</td>\n",
       "      <td>NaN</td>\n",
       "      <td>2016-06-14T04:29:57Z</td>\n",
       "      <td>2016-07-09T20:26:48Z</td>\n",
       "      <td>[{\"dateSeen\":[\"2016-07-09T20:26:48Z\"],\"sourceU...</td>\n",
       "      <td>NaN</td>\n",
       "      <td>...</td>\n",
       "      <td>NaN</td>\n",
       "      <td>NaN</td>\n",
       "      <td>NaN</td>\n",
       "      <td>NaN</td>\n",
       "      <td>http://www.walmart.com/ip/Studs-Shoe-Large-Pr-...</td>\n",
       "      <td>NaN</td>\n",
       "      <td>NaN</td>\n",
       "      <td>NaN</td>\n",
       "      <td>NaN</td>\n",
       "      <td>NaN</td>\n",
       "    </tr>\n",
       "    <tr>\n",
       "      <th>4</th>\n",
       "      <td>AVpfHsWP1cnluZ0-eVZ7</td>\n",
       "      <td>NaN</td>\n",
       "      <td>SERVUS BY HONEYWELL</td>\n",
       "      <td>All Men's Shoes,Shoes,Men's Shoes,Clothing</td>\n",
       "      <td>NaN</td>\n",
       "      <td>NaN</td>\n",
       "      <td>2016-06-14T04:29:57Z</td>\n",
       "      <td>2016-07-09T20:26:48Z</td>\n",
       "      <td>[{\"dateSeen\":[\"2016-07-09T20:26:48Z\"],\"sourceU...</td>\n",
       "      <td>NaN</td>\n",
       "      <td>...</td>\n",
       "      <td>NaN</td>\n",
       "      <td>NaN</td>\n",
       "      <td>NaN</td>\n",
       "      <td>NaN</td>\n",
       "      <td>http://www.walmart.com/ip/Studs-Shoe-Large-Pr-...</td>\n",
       "      <td>NaN</td>\n",
       "      <td>NaN</td>\n",
       "      <td>NaN</td>\n",
       "      <td>NaN</td>\n",
       "      <td>NaN</td>\n",
       "    </tr>\n",
       "    <tr>\n",
       "      <th>...</th>\n",
       "      <td>...</td>\n",
       "      <td>...</td>\n",
       "      <td>...</td>\n",
       "      <td>...</td>\n",
       "      <td>...</td>\n",
       "      <td>...</td>\n",
       "      <td>...</td>\n",
       "      <td>...</td>\n",
       "      <td>...</td>\n",
       "      <td>...</td>\n",
       "      <td>...</td>\n",
       "      <td>...</td>\n",
       "      <td>...</td>\n",
       "      <td>...</td>\n",
       "      <td>...</td>\n",
       "      <td>...</td>\n",
       "      <td>...</td>\n",
       "      <td>...</td>\n",
       "      <td>...</td>\n",
       "      <td>...</td>\n",
       "      <td>...</td>\n",
       "    </tr>\n",
       "    <tr>\n",
       "      <th>19381</th>\n",
       "      <td>AVpfdSjlilAPnD_xcGPm</td>\n",
       "      <td>NaN</td>\n",
       "      <td>Xray, XRay</td>\n",
       "      <td>Clothing, Shoes &amp; Accessories,Men's Shoes,Boots</td>\n",
       "      <td>Black</td>\n",
       "      <td>NaN</td>\n",
       "      <td>2016-03-04T05:54:20Z</td>\n",
       "      <td>2016-03-04T05:54:20Z</td>\n",
       "      <td>NaN</td>\n",
       "      <td>NaN</td>\n",
       "      <td>...</td>\n",
       "      <td>NaN</td>\n",
       "      <td>NaN</td>\n",
       "      <td>12</td>\n",
       "      <td>[{\"sourceURLs\":[\"http://www.ebay.com/itm/NEW-X...</td>\n",
       "      <td>http://www.ebay.com/itm/NEW-XRay-Hester-Mens-L...</td>\n",
       "      <td>6.57487E+11</td>\n",
       "      <td>NaN</td>\n",
       "      <td>NaN</td>\n",
       "      <td>NaN</td>\n",
       "      <td>NaN</td>\n",
       "    </tr>\n",
       "    <tr>\n",
       "      <th>19382</th>\n",
       "      <td>AVpf3bFWilAPnD_xjrQ2</td>\n",
       "      <td>NaN</td>\n",
       "      <td>Fila</td>\n",
       "      <td>Clothing,Shoes,Men's Shoes,All Men's Shoes</td>\n",
       "      <td>NaN</td>\n",
       "      <td>NaN</td>\n",
       "      <td>2016-10-05T22:23:17Z</td>\n",
       "      <td>2016-10-05T22:23:17Z</td>\n",
       "      <td>[{\"dateSeen\":[\"2016-10-05T22:23:17Z\"],\"sourceU...</td>\n",
       "      <td>NaN</td>\n",
       "      <td>...</td>\n",
       "      <td>NaN</td>\n",
       "      <td>NaN</td>\n",
       "      <td>NaN</td>\n",
       "      <td>NaN</td>\n",
       "      <td>https://www.walmart.com/ip/Fila-Men-s-Original...</td>\n",
       "      <td>7.89482E+11</td>\n",
       "      <td>NaN</td>\n",
       "      <td>NaN</td>\n",
       "      <td>NaN</td>\n",
       "      <td>NaN</td>\n",
       "    </tr>\n",
       "    <tr>\n",
       "      <th>19383</th>\n",
       "      <td>AVpf0fJXLJeJML43EVe9</td>\n",
       "      <td>NaN</td>\n",
       "      <td>Seek Optics</td>\n",
       "      <td>Women's Sunglasses,Sunglasses,Bags &amp; Accessori...</td>\n",
       "      <td>NaN</td>\n",
       "      <td>NaN</td>\n",
       "      <td>2016-01-02T02:39:11Z</td>\n",
       "      <td>2016-04-05T23:07:58Z</td>\n",
       "      <td>NaN</td>\n",
       "      <td>1 in x 1 in x 1 in</td>\n",
       "      <td>...</td>\n",
       "      <td>NaN</td>\n",
       "      <td>NaN</td>\n",
       "      <td>NaN</td>\n",
       "      <td>[{\"sourceURLs\":[\"http://www.sears.com/content/...</td>\n",
       "      <td>http://www.sears.com/content/pdp/products/pric...</td>\n",
       "      <td>NaN</td>\n",
       "      <td>NaN</td>\n",
       "      <td>NaN</td>\n",
       "      <td>NaN</td>\n",
       "      <td>NaN</td>\n",
       "    </tr>\n",
       "    <tr>\n",
       "      <th>19384</th>\n",
       "      <td>AVpf0fJXLJeJML43EVe9</td>\n",
       "      <td>NaN</td>\n",
       "      <td>Seek Optics</td>\n",
       "      <td>Women's Sunglasses,Sunglasses,Bags &amp; Accessori...</td>\n",
       "      <td>NaN</td>\n",
       "      <td>NaN</td>\n",
       "      <td>2016-01-02T02:39:11Z</td>\n",
       "      <td>2016-04-05T23:07:58Z</td>\n",
       "      <td>NaN</td>\n",
       "      <td>1 in x 1 in x 1 in</td>\n",
       "      <td>...</td>\n",
       "      <td>NaN</td>\n",
       "      <td>NaN</td>\n",
       "      <td>NaN</td>\n",
       "      <td>[{\"sourceURLs\":[\"http://www.sears.com/content/...</td>\n",
       "      <td>http://www.sears.com/content/pdp/products/pric...</td>\n",
       "      <td>NaN</td>\n",
       "      <td>NaN</td>\n",
       "      <td>NaN</td>\n",
       "      <td>NaN</td>\n",
       "      <td>NaN</td>\n",
       "    </tr>\n",
       "    <tr>\n",
       "      <th>19385</th>\n",
       "      <td>AVpf0fJXLJeJML43EVe9</td>\n",
       "      <td>NaN</td>\n",
       "      <td>Seek Optics</td>\n",
       "      <td>Women's Sunglasses,Sunglasses,Bags &amp; Accessori...</td>\n",
       "      <td>NaN</td>\n",
       "      <td>NaN</td>\n",
       "      <td>2016-01-02T02:39:11Z</td>\n",
       "      <td>2016-04-05T23:07:58Z</td>\n",
       "      <td>NaN</td>\n",
       "      <td>1 in x 1 in x 1 in</td>\n",
       "      <td>...</td>\n",
       "      <td>NaN</td>\n",
       "      <td>NaN</td>\n",
       "      <td>NaN</td>\n",
       "      <td>[{\"sourceURLs\":[\"http://www.sears.com/content/...</td>\n",
       "      <td>http://www.sears.com/content/pdp/products/pric...</td>\n",
       "      <td>NaN</td>\n",
       "      <td>NaN</td>\n",
       "      <td>NaN</td>\n",
       "      <td>NaN</td>\n",
       "      <td>NaN</td>\n",
       "    </tr>\n",
       "  </tbody>\n",
       "</table>\n",
       "<p>19386 rows × 49 columns</p>\n",
       "</div>"
      ],
      "text/plain": [
       "                         id asins                brand  \\\n",
       "0      AVpfHrJ6ilAPnD_xVXOI   NaN                Josmo   \n",
       "1      AVpfHrJ6ilAPnD_xVXOI   NaN                Josmo   \n",
       "2      AVpfHsWP1cnluZ0-eVZ7   NaN  SERVUS BY HONEYWELL   \n",
       "3      AVpfHsWP1cnluZ0-eVZ7   NaN  SERVUS BY HONEYWELL   \n",
       "4      AVpfHsWP1cnluZ0-eVZ7   NaN  SERVUS BY HONEYWELL   \n",
       "...                     ...   ...                  ...   \n",
       "19381  AVpfdSjlilAPnD_xcGPm   NaN           Xray, XRay   \n",
       "19382  AVpf3bFWilAPnD_xjrQ2   NaN                 Fila   \n",
       "19383  AVpf0fJXLJeJML43EVe9   NaN          Seek Optics   \n",
       "19384  AVpf0fJXLJeJML43EVe9   NaN          Seek Optics   \n",
       "19385  AVpf0fJXLJeJML43EVe9   NaN          Seek Optics   \n",
       "\n",
       "                                              categories colors  count  \\\n",
       "0             Clothing,Shoes,Men's Shoes,All Men's Shoes    NaN    NaN   \n",
       "1             Clothing,Shoes,Men's Shoes,All Men's Shoes    NaN    NaN   \n",
       "2             All Men's Shoes,Shoes,Men's Shoes,Clothing    NaN    NaN   \n",
       "3             All Men's Shoes,Shoes,Men's Shoes,Clothing    NaN    NaN   \n",
       "4             All Men's Shoes,Shoes,Men's Shoes,Clothing    NaN    NaN   \n",
       "...                                                  ...    ...    ...   \n",
       "19381    Clothing, Shoes & Accessories,Men's Shoes,Boots  Black    NaN   \n",
       "19382         Clothing,Shoes,Men's Shoes,All Men's Shoes    NaN    NaN   \n",
       "19383  Women's Sunglasses,Sunglasses,Bags & Accessori...    NaN    NaN   \n",
       "19384  Women's Sunglasses,Sunglasses,Bags & Accessori...    NaN    NaN   \n",
       "19385  Women's Sunglasses,Sunglasses,Bags & Accessori...    NaN    NaN   \n",
       "\n",
       "                  dateAdded           dateUpdated  \\\n",
       "0      2016-11-07T00:45:12Z  2016-11-07T00:45:12Z   \n",
       "1      2016-11-07T00:45:12Z  2016-11-07T00:45:12Z   \n",
       "2      2016-06-14T04:29:57Z  2016-07-09T20:26:48Z   \n",
       "3      2016-06-14T04:29:57Z  2016-07-09T20:26:48Z   \n",
       "4      2016-06-14T04:29:57Z  2016-07-09T20:26:48Z   \n",
       "...                     ...                   ...   \n",
       "19381  2016-03-04T05:54:20Z  2016-03-04T05:54:20Z   \n",
       "19382  2016-10-05T22:23:17Z  2016-10-05T22:23:17Z   \n",
       "19383  2016-01-02T02:39:11Z  2016-04-05T23:07:58Z   \n",
       "19384  2016-01-02T02:39:11Z  2016-04-05T23:07:58Z   \n",
       "19385  2016-01-02T02:39:11Z  2016-04-05T23:07:58Z   \n",
       "\n",
       "                                            descriptions           dimension  \\\n",
       "0      [{\"dateSeen\":[\"2016-11-07T00:45:12Z\"],\"sourceU...                 NaN   \n",
       "1      [{\"dateSeen\":[\"2016-11-07T00:45:12Z\"],\"sourceU...                 NaN   \n",
       "2      [{\"dateSeen\":[\"2016-07-09T20:26:48Z\"],\"sourceU...                 NaN   \n",
       "3      [{\"dateSeen\":[\"2016-07-09T20:26:48Z\"],\"sourceU...                 NaN   \n",
       "4      [{\"dateSeen\":[\"2016-07-09T20:26:48Z\"],\"sourceU...                 NaN   \n",
       "...                                                  ...                 ...   \n",
       "19381                                                NaN                 NaN   \n",
       "19382  [{\"dateSeen\":[\"2016-10-05T22:23:17Z\"],\"sourceU...                 NaN   \n",
       "19383                                                NaN  1 in x 1 in x 1 in   \n",
       "19384                                                NaN  1 in x 1 in x 1 in   \n",
       "19385                                                NaN  1 in x 1 in x 1 in   \n",
       "\n",
       "       ...  quantities reviews  sizes  \\\n",
       "0      ...         NaN     NaN    NaN   \n",
       "1      ...         NaN     NaN    NaN   \n",
       "2      ...         NaN     NaN    NaN   \n",
       "3      ...         NaN     NaN    NaN   \n",
       "4      ...         NaN     NaN    NaN   \n",
       "...    ...         ...     ...    ...   \n",
       "19381  ...         NaN     NaN     12   \n",
       "19382  ...         NaN     NaN    NaN   \n",
       "19383  ...         NaN     NaN    NaN   \n",
       "19384  ...         NaN     NaN    NaN   \n",
       "19385  ...         NaN     NaN    NaN   \n",
       "\n",
       "                                                    skus  \\\n",
       "0                                                    NaN   \n",
       "1                                                    NaN   \n",
       "2                                                    NaN   \n",
       "3                                                    NaN   \n",
       "4                                                    NaN   \n",
       "...                                                  ...   \n",
       "19381  [{\"sourceURLs\":[\"http://www.ebay.com/itm/NEW-X...   \n",
       "19382                                                NaN   \n",
       "19383  [{\"sourceURLs\":[\"http://www.sears.com/content/...   \n",
       "19384  [{\"sourceURLs\":[\"http://www.sears.com/content/...   \n",
       "19385  [{\"sourceURLs\":[\"http://www.sears.com/content/...   \n",
       "\n",
       "                                              sourceURLs          upc  vin  \\\n",
       "0      https://www.walmart.com/ip/Josmo-8190-Plain-In...  6.99302E+11  NaN   \n",
       "1      https://www.walmart.com/ip/Josmo-8190-Plain-In...  6.99302E+11  NaN   \n",
       "2      http://www.walmart.com/ip/Studs-Shoe-Large-Pr-...          NaN  NaN   \n",
       "3      http://www.walmart.com/ip/Studs-Shoe-Large-Pr-...          NaN  NaN   \n",
       "4      http://www.walmart.com/ip/Studs-Shoe-Large-Pr-...          NaN  NaN   \n",
       "...                                                  ...          ...  ...   \n",
       "19381  http://www.ebay.com/itm/NEW-XRay-Hester-Mens-L...  6.57487E+11  NaN   \n",
       "19382  https://www.walmart.com/ip/Fila-Men-s-Original...  7.89482E+11  NaN   \n",
       "19383  http://www.sears.com/content/pdp/products/pric...          NaN  NaN   \n",
       "19384  http://www.sears.com/content/pdp/products/pric...          NaN  NaN   \n",
       "19385  http://www.sears.com/content/pdp/products/pric...          NaN  NaN   \n",
       "\n",
       "      websiteIDs weight Unnamed: 48  \n",
       "0            NaN    NaN         NaN  \n",
       "1            NaN    NaN         NaN  \n",
       "2            NaN    NaN         NaN  \n",
       "3            NaN    NaN         NaN  \n",
       "4            NaN    NaN         NaN  \n",
       "...          ...    ...         ...  \n",
       "19381        NaN    NaN         NaN  \n",
       "19382        NaN    NaN         NaN  \n",
       "19383        NaN    NaN         NaN  \n",
       "19384        NaN    NaN         NaN  \n",
       "19385        NaN    NaN         NaN  \n",
       "\n",
       "[19386 rows x 49 columns]"
      ]
     },
     "execution_count": 2,
     "metadata": {},
     "output_type": "execute_result"
    }
   ],
   "source": [
    "#Create reference to CSV file\n",
    "csv_path = \"Datafiniti_Mens_Shoe_Prices.csv\"\n",
    "\n",
    "#Import the CSV into a pandas DataFrame\n",
    "Mens_Shoes_df = pd.read_csv(csv_path, low_memory = False)\n",
    "Mens_Shoes_df"
   ]
  },
  {
   "cell_type": "code",
   "execution_count": 3,
   "metadata": {},
   "outputs": [
    {
     "name": "stdout",
     "output_type": "stream",
     "text": [
      "The dataframes 'shape' is represented as: (19386, 49)\n"
     ]
    }
   ],
   "source": [
    "#Show the 'shape' of the dataframe \n",
    "shape = Mens_Shoes_df.shape\n",
    "print(f\"The dataframes 'shape' is represented as: {shape}\")"
   ]
  },
  {
   "cell_type": "markdown",
   "metadata": {},
   "source": [
    "#### COLLECT ONLY REQUIRED COLUMNS"
   ]
  },
  {
   "cell_type": "code",
   "execution_count": 4,
   "metadata": {},
   "outputs": [
    {
     "name": "stdout",
     "output_type": "stream",
     "text": [
      "The dataframes 'shape' is represented as: (19386, 8)\n"
     ]
    }
   ],
   "source": [
    "#Select only columns we need\n",
    "Mens_Shoes_df = Mens_Shoes_df[[\"id\", \"brand\", \"colors\", \"name\", \"prices.amountMax\",  \"prices.currency\", \"prices.dateSeen\",\n",
    "                               \"prices.isSale\"]]\n",
    "\n",
    "#Show the 'shape' of the dataframe\n",
    "shape = Mens_Shoes_df.shape\n",
    "print(f\"The dataframes 'shape' is represented as: {shape}\")"
   ]
  },
  {
   "cell_type": "code",
   "execution_count": 5,
   "metadata": {},
   "outputs": [],
   "source": [
    "#Print the dataframe\n",
    "#Mens_Shoes_df"
   ]
  },
  {
   "cell_type": "markdown",
   "metadata": {},
   "source": [
    "#### REMOVE ALL ROWS WHICH CONTAIN A CURRENCY OTHER THAN USD"
   ]
  },
  {
   "cell_type": "code",
   "execution_count": 6,
   "metadata": {},
   "outputs": [
    {
     "name": "stdout",
     "output_type": "stream",
     "text": [
      "The dataframes 'shape' is represented as: (18524, 8)\n"
     ]
    },
    {
     "name": "stderr",
     "output_type": "stream",
     "text": [
      "C:\\Users\\jingd\\anaconda3\\envs\\PythonData\\lib\\site-packages\\pandas\\core\\frame.py:3997: SettingWithCopyWarning: \n",
      "A value is trying to be set on a copy of a slice from a DataFrame\n",
      "\n",
      "See the caveats in the documentation: https://pandas.pydata.org/pandas-docs/stable/user_guide/indexing.html#returning-a-view-versus-a-copy\n",
      "  errors=errors,\n"
     ]
    }
   ],
   "source": [
    "#Get names of indexes for which column Currency has value other than USD\n",
    "Mens_Shoes_df_indexnames = (Mens_Shoes_df[Mens_Shoes_df['prices.currency'] != \"USD\"]).index\n",
    "\n",
    "#Delete these row indexes from dataframe\n",
    "Mens_Shoes_df.drop(Mens_Shoes_df_indexnames, inplace=True)\n",
    "\n",
    "#Show the 'shape' of the dataframe\n",
    "shape = Mens_Shoes_df.shape\n",
    "print(f\"The dataframes 'shape' is represented as: {shape}\")"
   ]
  },
  {
   "cell_type": "code",
   "execution_count": 7,
   "metadata": {},
   "outputs": [],
   "source": [
    "#Print the dataframe\n",
    "#Mens_Shoes_df"
   ]
  },
  {
   "cell_type": "markdown",
   "metadata": {},
   "source": [
    "#### REMOVE ALL ROWS WITH FALSE IN THE SALE COLUMN"
   ]
  },
  {
   "cell_type": "code",
   "execution_count": 8,
   "metadata": {},
   "outputs": [
    {
     "name": "stdout",
     "output_type": "stream",
     "text": [
      "The dataframes 'shape' is represented as: (5567, 8)\n"
     ]
    }
   ],
   "source": [
    "#Get names of indexes for which column Currency has value other than USD\n",
    "Mens_Shoes_df_indexnames = (Mens_Shoes_df[Mens_Shoes_df['prices.isSale'] == \"FALSE\"]).index\n",
    "\n",
    "#Delete these row indexes from dataFrame\n",
    "Mens_Shoes_df.drop(Mens_Shoes_df_indexnames, inplace=True)\n",
    "\n",
    "#Show the 'shape' of the dataframe\n",
    "shape = Mens_Shoes_df.shape\n",
    "print(f\"The dataframes 'shape' is represented as: {shape}\")"
   ]
  },
  {
   "cell_type": "code",
   "execution_count": 9,
   "metadata": {},
   "outputs": [],
   "source": [
    "#Print the dataframe\n",
    "#Mens_Shoes_df"
   ]
  },
  {
   "cell_type": "code",
   "execution_count": 10,
   "metadata": {},
   "outputs": [
    {
     "name": "stdout",
     "output_type": "stream",
     "text": [
      "The dataframes 'shape' is represented as: (5567, 7)\n"
     ]
    }
   ],
   "source": [
    "#Drop the 'prices.isSale' column as it is now useless data - was used to siphon the non-Sale prices.\n",
    "Mens_Shoes_df = Mens_Shoes_df.drop(['prices.isSale'], axis = 1)\n",
    "\n",
    "#Show the 'shape' of the dataframe\n",
    "shape = Mens_Shoes_df.shape\n",
    "print(f\"The dataframes 'shape' is represented as: {shape}\")"
   ]
  },
  {
   "cell_type": "code",
   "execution_count": 11,
   "metadata": {},
   "outputs": [],
   "source": [
    "#Print the dataframe\n",
    "#Mens_Shoes_df"
   ]
  },
  {
   "cell_type": "markdown",
   "metadata": {},
   "source": [
    "#### FILTER THE DATE COLUMN TO CORRECT FORMAT(YYYY-MM-DD) AND REMOVE ANY 'EMPTY' COLUMN"
   ]
  },
  {
   "cell_type": "code",
   "execution_count": 12,
   "metadata": {},
   "outputs": [
    {
     "name": "stdout",
     "output_type": "stream",
     "text": [
      "The dataframes 'shape' is represented as: (5567, 7)\n"
     ]
    }
   ],
   "source": [
    "#Filter out non-DateTime valued rows, and set value to \"NaN\"\n",
    "Mens_Shoes_df['prices.dateSeen'] = pd.to_datetime(Mens_Shoes_df['prices.dateSeen'], errors = 'coerce')\n",
    "\n",
    "#Drop all \"NaN\" valued rows in prices.dateSeen column\n",
    "Mens_Shoes_df = Mens_Shoes_df.dropna(subset = ['prices.dateSeen'])\n",
    "\n",
    "#Convert the price.dateSeen column to string (from TimeStamp due to previous function to_datetime used)\n",
    "Mens_Shoes_df['prices.dateSeen'] = Mens_Shoes_df['prices.dateSeen'].astype(str)\n",
    "\n",
    "#Convert column to list\n",
    "dt_list = Mens_Shoes_df[\"prices.dateSeen\"].tolist()\n",
    "\n",
    "#Clean up the list to only show yyyy-mm-dd formate\n",
    "w_date = []\n",
    "for x in dt_list:\n",
    "    w_date.append(x.split(\" \")[0])\n",
    "\n",
    "#Add the formated list into the dataframe as new column \"Date\"\n",
    "Mens_Shoes_df[\"Date\"] = w_date\n",
    "\n",
    "#Drop all \"NaN\" valued rows in prices.dateSeen column\n",
    "Mens_Shoes_df = Mens_Shoes_df.dropna(subset=['Date'])\n",
    "\n",
    "#Drop the 'prices.dateSeen' column as it is now repleced with a 'Date' column\n",
    "Mens_Shoes_df = Mens_Shoes_df.drop(['prices.dateSeen'], axis = 1)\n",
    "\n",
    "#Show the 'shape' of the dataframe\n",
    "shape = Mens_Shoes_df.shape\n",
    "print(f\"The dataframes 'shape' is represented as: {shape}\")"
   ]
  },
  {
   "cell_type": "code",
   "execution_count": 13,
   "metadata": {},
   "outputs": [],
   "source": [
    "#Print the dataframe\n",
    "#Mens_Shoes_df"
   ]
  },
  {
   "cell_type": "markdown",
   "metadata": {},
   "source": [
    "#### FILTER THE NAME COLUMN TO COLLECT REQUIRED ROWS"
   ]
  },
  {
   "cell_type": "code",
   "execution_count": 14,
   "metadata": {},
   "outputs": [
    {
     "name": "stdout",
     "output_type": "stream",
     "text": [
      "The dataframes 'shape' is represented as: (2759, 7)\n"
     ]
    }
   ],
   "source": [
    "#Define shoe list to filter out non-shoe items \n",
    "ShoeList = ['Sandals', 'Sandal', 'Shoe', 'Shoes', 'Boots', 'Boot', 'Sneakers', 'Sneaker', 'Loafers', 'Slippers', \n",
    "            'Runners', 'Trainers', 'Thongs', 'bootie', 'wedge', 'heel']\n",
    "\n",
    "# Search for content in ShoeList and filter \n",
    "Mens_Shoes_df = Mens_Shoes_df[Mens_Shoes_df.name.str.contains('|'.join(ShoeList), case=False)]\n",
    "\n",
    "#Drop all \"NaN\" value rows in the name column\n",
    "Mens_Shoes_df = Mens_Shoes_df.dropna(subset=['name'])\n",
    "\n",
    "#Show the 'shape' of the dataframe\n",
    "shape = Mens_Shoes_df.shape\n",
    "print(f\"The dataframes 'shape' is represented as: {shape}\")"
   ]
  },
  {
   "cell_type": "code",
   "execution_count": 15,
   "metadata": {},
   "outputs": [],
   "source": [
    "#Print the dataframe\n",
    "#Mens_Shoes_df"
   ]
  },
  {
   "cell_type": "markdown",
   "metadata": {},
   "source": [
    "#### FILTER THE COLOR COLUMN TO COLLECT REQUIRED ROWS"
   ]
  },
  {
   "cell_type": "code",
   "execution_count": 16,
   "metadata": {},
   "outputs": [
    {
     "name": "stdout",
     "output_type": "stream",
     "text": [
      "The dataframes 'shape' is represented as: (1742, 7)\n"
     ]
    }
   ],
   "source": [
    "#Replace \",\" with \"/\", so we can split strings all together\n",
    "colour_list = Mens_Shoes_df.colors.str.replace(',', '/')\n",
    "\n",
    "#Loop through the list and pick out the first color before \"/\"\n",
    "colour=[]\n",
    "for x in colour_list:\n",
    "    colour.append(str(x).split(\"/\")[0])\n",
    "    \n",
    "#Create a new column with the simplified color\n",
    "Mens_Shoes_df[\"Colours\"] = colour\n",
    "\n",
    "#Drop the 'color' column as it is now repleced with a 'Colour' column\n",
    "Mens_Shoes_df = Mens_Shoes_df.drop(['colors'], axis = 1)\n",
    "\n",
    "#Drop off rows with no brand\n",
    "Mens_Shoes_df = Mens_Shoes_df.dropna(subset=['Colours'])\n",
    "\n",
    "#Get names of indexes for which the Colours column has text containing \"nan\"\n",
    "Mens_Shoes_indexNames = Mens_Shoes_df[Mens_Shoes_df['Colours'] == \"nan\"].index\n",
    "Mens_Shoes_df.drop(Mens_Shoes_indexNames, inplace=True)\n",
    "\n",
    "#Show the 'shape' of the dataframe\n",
    "shape = Mens_Shoes_df.shape\n",
    "print(f\"The dataframes 'shape' is represented as: {shape}\")"
   ]
  },
  {
   "cell_type": "code",
   "execution_count": 17,
   "metadata": {},
   "outputs": [],
   "source": [
    "#Print the dataframe\n",
    "#Mens_Shoes_df"
   ]
  },
  {
   "cell_type": "markdown",
   "metadata": {},
   "source": [
    "#### REMOVE ALL ROWS WITH NO DATA"
   ]
  },
  {
   "cell_type": "code",
   "execution_count": 18,
   "metadata": {},
   "outputs": [
    {
     "name": "stdout",
     "output_type": "stream",
     "text": [
      "The dataframes 'shape' is represented as: (1740, 7)\n"
     ]
    }
   ],
   "source": [
    "#Filter out those rows which does not contain any data \n",
    "Mens_Shoes_df = Mens_Shoes_df.dropna() \n",
    "\n",
    "#Confirm rows are dropped\n",
    "shape = Mens_Shoes_df.shape\n",
    "print(f\"The dataframes 'shape' is represented as: {shape}\")"
   ]
  },
  {
   "cell_type": "code",
   "execution_count": 19,
   "metadata": {},
   "outputs": [],
   "source": [
    "#Print the dataframe\n",
    "#Mens_Shoes_df"
   ]
  },
  {
   "cell_type": "markdown",
   "metadata": {},
   "source": [
    "#### FILTER THE DATAFRAME AND DROP DUPLICATES, AND RE-ORDER"
   ]
  },
  {
   "cell_type": "code",
   "execution_count": 20,
   "metadata": {},
   "outputs": [
    {
     "name": "stdout",
     "output_type": "stream",
     "text": [
      "The dataframes 'shape' is represented as: (1267, 7)\n"
     ]
    }
   ],
   "source": [
    "# Mens DF - Select Highest Price ID and Drop Duplicates \n",
    "\n",
    "# convert prices column to Float \n",
    "Mens_Shoes_df['prices.amountMax'] = pd.to_numeric(Mens_Shoes_df['prices.amountMax'], errors = 'coerce')\n",
    "\n",
    "# sort DF based on Price\n",
    "Mens_Shoes_df = Mens_Shoes_df.sort_values('prices.amountMax', ascending=False)\n",
    "\n",
    "# Remove Duplicate ID rows \n",
    "Mens_Shoes_df.drop_duplicates(subset=['id'], inplace = True, keep = 'first')\n",
    "\n",
    "#Confirm rows are dropped\n",
    "shape = Mens_Shoes_df.shape\n",
    "print(f\"The dataframes 'shape' is represented as: {shape}\")"
   ]
  },
  {
   "cell_type": "code",
   "execution_count": 21,
   "metadata": {},
   "outputs": [],
   "source": [
    "#Print the dataframe\n",
    "#Mens_Shoes_df"
   ]
  },
  {
   "cell_type": "markdown",
   "metadata": {},
   "source": [
    "#### ADD A COLUMN TO THE DATAFRAME AND FILL WITH 'Mens'"
   ]
  },
  {
   "cell_type": "code",
   "execution_count": 22,
   "metadata": {},
   "outputs": [
    {
     "name": "stdout",
     "output_type": "stream",
     "text": [
      "The dataframes 'shape' is represented as: (1267, 8)\n"
     ]
    }
   ],
   "source": [
    "#Create an Gender column for Men's Shoes\n",
    "Mens_Shoes_df['Gender'] = \"Men's\"\n",
    "\n",
    "#Show the 'shape' of the dataframe\n",
    "shape = Mens_Shoes_df.shape\n",
    "print(f\"The dataframes 'shape' is represented as: {shape}\")"
   ]
  },
  {
   "cell_type": "code",
   "execution_count": 23,
   "metadata": {},
   "outputs": [],
   "source": [
    "#Print the dataframe\n",
    "#Mens_Shoes_df"
   ]
  },
  {
   "cell_type": "markdown",
   "metadata": {},
   "source": [
    "#### RENAME COLUMNS AND CORRECT THE INDEX FOR VISUAL PURPOSES"
   ]
  },
  {
   "cell_type": "code",
   "execution_count": 24,
   "metadata": {},
   "outputs": [],
   "source": [
    "#The original dataframe had an index, so re-arrange the index \n",
    "Mens_Shoes_df.index = [x for x in range(1, len(Mens_Shoes_df.values)+1)]\n",
    "Mens_Shoes_df.index.name = 'Index'"
   ]
  },
  {
   "cell_type": "code",
   "execution_count": 25,
   "metadata": {},
   "outputs": [
    {
     "name": "stdout",
     "output_type": "stream",
     "text": [
      "The dataframes 'shape' is represented as: (1267, 8)\n"
     ]
    }
   ],
   "source": [
    "#Rename the columns for visual purposes\n",
    "Mens_Shoes_df = Mens_Shoes_df.rename(columns = {\"id\":\"ID\", \"brand\":\"Brand\", \"name\":\"Name\", \"prices.amountMax\":\"Price($)\", \n",
    "                                                \"prices.currency\":\"Currency\", \"prices.dateSeen\":\"Date\"})\n",
    "\n",
    "#Reorganise the columns for visualisation\n",
    "Mens_Shoes_df = Mens_Shoes_df[['ID', 'Name', 'Brand', 'Colours', 'Price($)', 'Gender', 'Currency', 'Date']]\n",
    "\n",
    "#Show the 'shape' of the dataframe\n",
    "shape = Mens_Shoes_df.shape\n",
    "print(f\"The dataframes 'shape' is represented as: {shape}\")"
   ]
  },
  {
   "cell_type": "markdown",
   "metadata": {},
   "source": [
    "#### PRINT THE RESULTING DATAFRAME"
   ]
  },
  {
   "cell_type": "code",
   "execution_count": 26,
   "metadata": {},
   "outputs": [
    {
     "data": {
      "text/html": [
       "<div>\n",
       "<style scoped>\n",
       "    .dataframe tbody tr th:only-of-type {\n",
       "        vertical-align: middle;\n",
       "    }\n",
       "\n",
       "    .dataframe tbody tr th {\n",
       "        vertical-align: top;\n",
       "    }\n",
       "\n",
       "    .dataframe thead th {\n",
       "        text-align: right;\n",
       "    }\n",
       "</style>\n",
       "<table border=\"1\" class=\"dataframe\">\n",
       "  <thead>\n",
       "    <tr style=\"text-align: right;\">\n",
       "      <th></th>\n",
       "      <th>ID</th>\n",
       "      <th>Name</th>\n",
       "      <th>Brand</th>\n",
       "      <th>Colours</th>\n",
       "      <th>Price($)</th>\n",
       "      <th>Gender</th>\n",
       "      <th>Currency</th>\n",
       "      <th>Date</th>\n",
       "    </tr>\n",
       "    <tr>\n",
       "      <th>Index</th>\n",
       "      <th></th>\n",
       "      <th></th>\n",
       "      <th></th>\n",
       "      <th></th>\n",
       "      <th></th>\n",
       "      <th></th>\n",
       "      <th></th>\n",
       "      <th></th>\n",
       "    </tr>\n",
       "  </thead>\n",
       "  <tbody>\n",
       "    <tr>\n",
       "      <th>1</th>\n",
       "      <td>AVpe6YWKLJeJML43yIru</td>\n",
       "      <td>Westridge Oiled Suede Boot</td>\n",
       "      <td>Ralph Lauren</td>\n",
       "      <td>Dark BrownDark Brown</td>\n",
       "      <td>729.99</td>\n",
       "      <td>Men's</td>\n",
       "      <td>USD</td>\n",
       "      <td>2016-02-21</td>\n",
       "    </tr>\n",
       "    <tr>\n",
       "      <th>2</th>\n",
       "      <td>AVpfIoidilAPnD_xVsOh</td>\n",
       "      <td>Saint Laurent Men's Leather High Top Sneaker S...</td>\n",
       "      <td>Saint Laurent</td>\n",
       "      <td>Silver</td>\n",
       "      <td>520.00</td>\n",
       "      <td>Men's</td>\n",
       "      <td>USD</td>\n",
       "      <td>2017-01-09</td>\n",
       "    </tr>\n",
       "    <tr>\n",
       "      <th>3</th>\n",
       "      <td>AVpfYMpY1cnluZ0-jsxG</td>\n",
       "      <td>Lucchese Landon Caiman Hornback Tail Boots</td>\n",
       "      <td>Lucchese</td>\n",
       "      <td>Brown</td>\n",
       "      <td>475.99</td>\n",
       "      <td>Men's</td>\n",
       "      <td>USD</td>\n",
       "      <td>2016-10-05</td>\n",
       "    </tr>\n",
       "    <tr>\n",
       "      <th>4</th>\n",
       "      <td>AVpfGXOdilAPnD_xU7eC</td>\n",
       "      <td>Kenetrek Men's Mountain Extreme Ni Boot Wide 9...</td>\n",
       "      <td>Kenetrek</td>\n",
       "      <td>Multicolor</td>\n",
       "      <td>450.00</td>\n",
       "      <td>Men's</td>\n",
       "      <td>USD</td>\n",
       "      <td>2016-11-11</td>\n",
       "    </tr>\n",
       "    <tr>\n",
       "      <th>5</th>\n",
       "      <td>AVpfzCC01cnluZ0-rdrP</td>\n",
       "      <td>Dan Post Western Boots Mens 11 Flank Caiman Co...</td>\n",
       "      <td>Dan Post</td>\n",
       "      <td>Sunset</td>\n",
       "      <td>439.95</td>\n",
       "      <td>Men's</td>\n",
       "      <td>USD</td>\n",
       "      <td>2016-03-21</td>\n",
       "    </tr>\n",
       "    <tr>\n",
       "      <th>...</th>\n",
       "      <td>...</td>\n",
       "      <td>...</td>\n",
       "      <td>...</td>\n",
       "      <td>...</td>\n",
       "      <td>...</td>\n",
       "      <td>...</td>\n",
       "      <td>...</td>\n",
       "      <td>...</td>\n",
       "    </tr>\n",
       "    <tr>\n",
       "      <th>1263</th>\n",
       "      <td>AVpfMMFe1cnluZ0-f1n3</td>\n",
       "      <td>Green Bay Packers Men's Big Logo Unisex Beach ...</td>\n",
       "      <td>Forever Collectibles</td>\n",
       "      <td>Green Bay Packers</td>\n",
       "      <td>9.99</td>\n",
       "      <td>Men's</td>\n",
       "      <td>USD</td>\n",
       "      <td>2017-01-09</td>\n",
       "    </tr>\n",
       "    <tr>\n",
       "      <th>1264</th>\n",
       "      <td>AVpfH-qmilAPnD_xVdqN</td>\n",
       "      <td>Keuka Suregrip Mens Rex Steel Toe Black Slip R...</td>\n",
       "      <td>Keuka SureGrip</td>\n",
       "      <td>Black</td>\n",
       "      <td>9.98</td>\n",
       "      <td>Men's</td>\n",
       "      <td>USD</td>\n",
       "      <td>2016-10-28</td>\n",
       "    </tr>\n",
       "    <tr>\n",
       "      <th>1265</th>\n",
       "      <td>AVpfoPnTLJeJML43Ax9a</td>\n",
       "      <td>Alpine Swiss Men's Flip Flops Beach Sandals Li...</td>\n",
       "      <td>Alpine Swiss</td>\n",
       "      <td>Black</td>\n",
       "      <td>7.99</td>\n",
       "      <td>Men's</td>\n",
       "      <td>USD</td>\n",
       "      <td>2016-08-23</td>\n",
       "    </tr>\n",
       "    <tr>\n",
       "      <th>1266</th>\n",
       "      <td>AVpe-ffCLJeJML43zoRk</td>\n",
       "      <td>Quiksilver Halewa Men  Open Toe Synthetic  Fli...</td>\n",
       "      <td>Quiksilver</td>\n",
       "      <td>Black</td>\n",
       "      <td>4.99</td>\n",
       "      <td>Men's</td>\n",
       "      <td>USD</td>\n",
       "      <td>2017-01-12</td>\n",
       "    </tr>\n",
       "    <tr>\n",
       "      <th>1267</th>\n",
       "      <td>AVpfpcd8ilAPnD_xfq0P</td>\n",
       "      <td>Op Men's Printed Flip Flop Sandal</td>\n",
       "      <td>Op</td>\n",
       "      <td>Grey Black White</td>\n",
       "      <td>2.00</td>\n",
       "      <td>Men's</td>\n",
       "      <td>USD</td>\n",
       "      <td>2015-11-03</td>\n",
       "    </tr>\n",
       "  </tbody>\n",
       "</table>\n",
       "<p>1267 rows × 8 columns</p>\n",
       "</div>"
      ],
      "text/plain": [
       "                         ID  \\\n",
       "Index                         \n",
       "1      AVpe6YWKLJeJML43yIru   \n",
       "2      AVpfIoidilAPnD_xVsOh   \n",
       "3      AVpfYMpY1cnluZ0-jsxG   \n",
       "4      AVpfGXOdilAPnD_xU7eC   \n",
       "5      AVpfzCC01cnluZ0-rdrP   \n",
       "...                     ...   \n",
       "1263   AVpfMMFe1cnluZ0-f1n3   \n",
       "1264   AVpfH-qmilAPnD_xVdqN   \n",
       "1265   AVpfoPnTLJeJML43Ax9a   \n",
       "1266   AVpe-ffCLJeJML43zoRk   \n",
       "1267   AVpfpcd8ilAPnD_xfq0P   \n",
       "\n",
       "                                                    Name  \\\n",
       "Index                                                      \n",
       "1                             Westridge Oiled Suede Boot   \n",
       "2      Saint Laurent Men's Leather High Top Sneaker S...   \n",
       "3             Lucchese Landon Caiman Hornback Tail Boots   \n",
       "4      Kenetrek Men's Mountain Extreme Ni Boot Wide 9...   \n",
       "5      Dan Post Western Boots Mens 11 Flank Caiman Co...   \n",
       "...                                                  ...   \n",
       "1263   Green Bay Packers Men's Big Logo Unisex Beach ...   \n",
       "1264   Keuka Suregrip Mens Rex Steel Toe Black Slip R...   \n",
       "1265   Alpine Swiss Men's Flip Flops Beach Sandals Li...   \n",
       "1266   Quiksilver Halewa Men  Open Toe Synthetic  Fli...   \n",
       "1267                   Op Men's Printed Flip Flop Sandal   \n",
       "\n",
       "                      Brand               Colours  Price($) Gender Currency  \\\n",
       "Index                                                                         \n",
       "1              Ralph Lauren  Dark BrownDark Brown    729.99  Men's      USD   \n",
       "2             Saint Laurent                Silver    520.00  Men's      USD   \n",
       "3                  Lucchese                 Brown    475.99  Men's      USD   \n",
       "4                  Kenetrek            Multicolor    450.00  Men's      USD   \n",
       "5                  Dan Post                Sunset    439.95  Men's      USD   \n",
       "...                     ...                   ...       ...    ...      ...   \n",
       "1263   Forever Collectibles     Green Bay Packers      9.99  Men's      USD   \n",
       "1264         Keuka SureGrip                 Black      9.98  Men's      USD   \n",
       "1265           Alpine Swiss                 Black      7.99  Men's      USD   \n",
       "1266             Quiksilver                 Black      4.99  Men's      USD   \n",
       "1267                     Op      Grey Black White      2.00  Men's      USD   \n",
       "\n",
       "             Date  \n",
       "Index              \n",
       "1      2016-02-21  \n",
       "2      2017-01-09  \n",
       "3      2016-10-05  \n",
       "4      2016-11-11  \n",
       "5      2016-03-21  \n",
       "...           ...  \n",
       "1263   2017-01-09  \n",
       "1264   2016-10-28  \n",
       "1265   2016-08-23  \n",
       "1266   2017-01-12  \n",
       "1267   2015-11-03  \n",
       "\n",
       "[1267 rows x 8 columns]"
      ]
     },
     "execution_count": 26,
     "metadata": {},
     "output_type": "execute_result"
    }
   ],
   "source": [
    "#Print the dataframe\n",
    "Mens_Shoes_df"
   ]
  },
  {
   "cell_type": "markdown",
   "metadata": {},
   "source": [
    "#### SAVE DATAFRAME TO CSV"
   ]
  },
  {
   "cell_type": "code",
   "execution_count": 27,
   "metadata": {},
   "outputs": [],
   "source": [
    "#Save dataframe as csv file\n",
    "Mens_Shoes_df.to_csv('Mens_Shoes_df.csv') "
   ]
  },
  {
   "cell_type": "code",
   "execution_count": null,
   "metadata": {},
   "outputs": [],
   "source": []
  },
  {
   "cell_type": "code",
   "execution_count": null,
   "metadata": {},
   "outputs": [],
   "source": []
  }
 ],
 "metadata": {
  "kernelspec": {
   "display_name": "Python 3",
   "language": "python",
   "name": "python3"
  },
  "language_info": {
   "codemirror_mode": {
    "name": "ipython",
    "version": 3
   },
   "file_extension": ".py",
   "mimetype": "text/x-python",
   "name": "python",
   "nbconvert_exporter": "python",
   "pygments_lexer": "ipython3",
   "version": "3.6.10"
  }
 },
 "nbformat": 4,
 "nbformat_minor": 4
}
